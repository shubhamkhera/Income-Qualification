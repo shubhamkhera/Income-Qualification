{
 "cells": [
  {
   "cell_type": "markdown",
   "id": "c6556de0",
   "metadata": {},
   "source": [
    "**DESCRIPTION**\n",
    "\n",
    "Identify the level of income qualification needed for the families in Latin America.\n",
    "\n",
    "**Problem Statement Scenario:**\n",
    "\n",
    "Many social programs have a hard time ensuring that the right people are given enough aid. It’s tricky when a program focuses on the poorest segment of the population. This segment of the population can’t provide the necessary income and expense records to prove that they qualify.\n",
    "\n",
    "In Latin America, a popular method called Proxy Means Test (PMT) uses an algorithm to verify income qualification. With PMT, agencies use a model that considers a family’s observable household attributes like the material of their walls and ceiling or the assets found in their homes to\n",
    "classify them and predict their level of need.\n",
    "\n",
    "While this is an improvement, accuracy remains a problem as the region’s population grows and poverty declines.\n",
    "\n",
    "The Inter-American Development Bank (IDB)believes that new methods beyond traditional econometrics, based on a dataset of Costa Rican household characteristics, might help improve PMT’s performance.\n",
    "\n",
    "**Following actions should be performed:**\n",
    "\n",
    "1. Identify the output variable.\n",
    "2. Understand the type of data.\n",
    "3. Check if there are any biases in your dataset.\n",
    "4. Check whether all members of the house have the same poverty level.\n",
    "5. Check if there is a house without a family head.\n",
    "6. Set poverty level of the members and the head of the house within a family.\n",
    "7. Count how many null values are existing in columns.\n",
    "8. Remove null value rows of the target variable.\n",
    "9. Predict the accuracy using random forest classifier.\n",
    "10. Check the accuracy using random forest with cross validation."
   ]
  },
  {
   "cell_type": "code",
   "execution_count": 1,
   "id": "a43459a9",
   "metadata": {},
   "outputs": [],
   "source": [
    "#Import Libraries requerd for solution\n",
    "import numpy as np\n",
    "import pandas as pd\n",
    "import matplotlib.pyplot as plt\n",
    "import seaborn as sns\n",
    "%matplotlib inline"
   ]
  },
  {
   "cell_type": "code",
   "execution_count": 2,
   "id": "6fdef4de",
   "metadata": {},
   "outputs": [
    {
     "data": {
      "text/plain": [
       "((9557, 142), (23856, 141))"
      ]
     },
     "execution_count": 2,
     "metadata": {},
     "output_type": "execute_result"
    }
   ],
   "source": [
    "#importing data\n",
    "iq_train = pd.read_csv(\"train_iq.csv\", index_col=0)\n",
    "iq_test = pd.read_csv(\"test_iq.csv\", index_col=0)\n",
    "iq_train.shape, iq_test.shape"
   ]
  },
  {
   "cell_type": "markdown",
   "id": "4806396b",
   "metadata": {},
   "source": [
    "## Task1: Identify the output variable"
   ]
  },
  {
   "cell_type": "markdown",
   "id": "a01677e7",
   "metadata": {},
   "source": [
    "As we can see that there are 142 attributes(columns) in train dataset and 141 attribute in test dataset. So lets take a look at the columns and identify output variable"
   ]
  },
  {
   "cell_type": "code",
   "execution_count": 3,
   "id": "64905b64",
   "metadata": {},
   "outputs": [
    {
     "name": "stdout",
     "output_type": "stream",
     "text": [
      "Train dataset Columns:\n",
      "\n",
      " Index(['v2a1', 'hacdor', 'rooms', 'hacapo', 'v14a', 'refrig', 'v18q', 'v18q1',\n",
      "       'r4h1', 'r4h2',\n",
      "       ...\n",
      "       'SQBescolari', 'SQBage', 'SQBhogar_total', 'SQBedjefe', 'SQBhogar_nin',\n",
      "       'SQBovercrowding', 'SQBdependency', 'SQBmeaned', 'agesq', 'Target'],\n",
      "      dtype='object', length=142)\n",
      "-----------------------------------------------------------------------------------------------------------------------\n",
      "Test dataset Columns:\n",
      "\n",
      " Index(['v2a1', 'hacdor', 'rooms', 'hacapo', 'v14a', 'refrig', 'v18q', 'v18q1',\n",
      "       'r4h1', 'r4h2',\n",
      "       ...\n",
      "       'age', 'SQBescolari', 'SQBage', 'SQBhogar_total', 'SQBedjefe',\n",
      "       'SQBhogar_nin', 'SQBovercrowding', 'SQBdependency', 'SQBmeaned',\n",
      "       'agesq'],\n",
      "      dtype='object', length=141)\n"
     ]
    }
   ],
   "source": [
    "print(\"Train dataset Columns:\\n\\n\",iq_train.columns)\n",
    "print(\"-----------------------------------------------------------------------------------------------------------------------\")\n",
    "print(\"Test dataset Columns:\\n\\n\",iq_test.columns)"
   ]
  },
  {
   "cell_type": "markdown",
   "id": "0288a79e",
   "metadata": {},
   "source": [
    "**Observations:**\n",
    "\n",
    "<I>As we compare columns of both the \"test\" and \"train\" data set it is clearly visible that the \"train\" dataset contains a column named \"Target\" which is most probably the output column  </I>\n",
    "\n",
    "**Hence we can say that <I><b>\"Target\"</b></I>  column in \"train\" dataset is the output variable and it identifies the income Qualification**"
   ]
  },
  {
   "cell_type": "markdown",
   "id": "e235c48b",
   "metadata": {},
   "source": [
    "## Task 2: Understand the type of data"
   ]
  },
  {
   "cell_type": "markdown",
   "id": "1181fb9c",
   "metadata": {},
   "source": [
    "#### understanding data by performing EDA"
   ]
  },
  {
   "cell_type": "code",
   "execution_count": 4,
   "id": "091b401f",
   "metadata": {},
   "outputs": [
    {
     "data": {
      "text/html": [
       "<div>\n",
       "<style scoped>\n",
       "    .dataframe tbody tr th:only-of-type {\n",
       "        vertical-align: middle;\n",
       "    }\n",
       "\n",
       "    .dataframe tbody tr th {\n",
       "        vertical-align: top;\n",
       "    }\n",
       "\n",
       "    .dataframe thead th {\n",
       "        text-align: right;\n",
       "    }\n",
       "</style>\n",
       "<table border=\"1\" class=\"dataframe\">\n",
       "  <thead>\n",
       "    <tr style=\"text-align: right;\">\n",
       "      <th></th>\n",
       "      <th>v2a1</th>\n",
       "      <th>hacdor</th>\n",
       "      <th>rooms</th>\n",
       "      <th>hacapo</th>\n",
       "      <th>v14a</th>\n",
       "      <th>refrig</th>\n",
       "      <th>v18q</th>\n",
       "      <th>v18q1</th>\n",
       "      <th>r4h1</th>\n",
       "      <th>r4h2</th>\n",
       "      <th>...</th>\n",
       "      <th>SQBescolari</th>\n",
       "      <th>SQBage</th>\n",
       "      <th>SQBhogar_total</th>\n",
       "      <th>SQBedjefe</th>\n",
       "      <th>SQBhogar_nin</th>\n",
       "      <th>SQBovercrowding</th>\n",
       "      <th>SQBdependency</th>\n",
       "      <th>SQBmeaned</th>\n",
       "      <th>agesq</th>\n",
       "      <th>Target</th>\n",
       "    </tr>\n",
       "    <tr>\n",
       "      <th>Id</th>\n",
       "      <th></th>\n",
       "      <th></th>\n",
       "      <th></th>\n",
       "      <th></th>\n",
       "      <th></th>\n",
       "      <th></th>\n",
       "      <th></th>\n",
       "      <th></th>\n",
       "      <th></th>\n",
       "      <th></th>\n",
       "      <th></th>\n",
       "      <th></th>\n",
       "      <th></th>\n",
       "      <th></th>\n",
       "      <th></th>\n",
       "      <th></th>\n",
       "      <th></th>\n",
       "      <th></th>\n",
       "      <th></th>\n",
       "      <th></th>\n",
       "      <th></th>\n",
       "    </tr>\n",
       "  </thead>\n",
       "  <tbody>\n",
       "    <tr>\n",
       "      <th>ID_279628684</th>\n",
       "      <td>190000.0</td>\n",
       "      <td>0</td>\n",
       "      <td>3</td>\n",
       "      <td>0</td>\n",
       "      <td>1</td>\n",
       "      <td>1</td>\n",
       "      <td>0</td>\n",
       "      <td>NaN</td>\n",
       "      <td>0</td>\n",
       "      <td>1</td>\n",
       "      <td>...</td>\n",
       "      <td>100</td>\n",
       "      <td>1849</td>\n",
       "      <td>1</td>\n",
       "      <td>100</td>\n",
       "      <td>0</td>\n",
       "      <td>1.000000</td>\n",
       "      <td>0.0</td>\n",
       "      <td>100.0</td>\n",
       "      <td>1849</td>\n",
       "      <td>4</td>\n",
       "    </tr>\n",
       "    <tr>\n",
       "      <th>ID_f29eb3ddd</th>\n",
       "      <td>135000.0</td>\n",
       "      <td>0</td>\n",
       "      <td>4</td>\n",
       "      <td>0</td>\n",
       "      <td>1</td>\n",
       "      <td>1</td>\n",
       "      <td>1</td>\n",
       "      <td>1.0</td>\n",
       "      <td>0</td>\n",
       "      <td>1</td>\n",
       "      <td>...</td>\n",
       "      <td>144</td>\n",
       "      <td>4489</td>\n",
       "      <td>1</td>\n",
       "      <td>144</td>\n",
       "      <td>0</td>\n",
       "      <td>1.000000</td>\n",
       "      <td>64.0</td>\n",
       "      <td>144.0</td>\n",
       "      <td>4489</td>\n",
       "      <td>4</td>\n",
       "    </tr>\n",
       "    <tr>\n",
       "      <th>ID_68de51c94</th>\n",
       "      <td>NaN</td>\n",
       "      <td>0</td>\n",
       "      <td>8</td>\n",
       "      <td>0</td>\n",
       "      <td>1</td>\n",
       "      <td>1</td>\n",
       "      <td>0</td>\n",
       "      <td>NaN</td>\n",
       "      <td>0</td>\n",
       "      <td>0</td>\n",
       "      <td>...</td>\n",
       "      <td>121</td>\n",
       "      <td>8464</td>\n",
       "      <td>1</td>\n",
       "      <td>0</td>\n",
       "      <td>0</td>\n",
       "      <td>0.250000</td>\n",
       "      <td>64.0</td>\n",
       "      <td>121.0</td>\n",
       "      <td>8464</td>\n",
       "      <td>4</td>\n",
       "    </tr>\n",
       "    <tr>\n",
       "      <th>ID_d671db89c</th>\n",
       "      <td>180000.0</td>\n",
       "      <td>0</td>\n",
       "      <td>5</td>\n",
       "      <td>0</td>\n",
       "      <td>1</td>\n",
       "      <td>1</td>\n",
       "      <td>1</td>\n",
       "      <td>1.0</td>\n",
       "      <td>0</td>\n",
       "      <td>2</td>\n",
       "      <td>...</td>\n",
       "      <td>81</td>\n",
       "      <td>289</td>\n",
       "      <td>16</td>\n",
       "      <td>121</td>\n",
       "      <td>4</td>\n",
       "      <td>1.777778</td>\n",
       "      <td>1.0</td>\n",
       "      <td>121.0</td>\n",
       "      <td>289</td>\n",
       "      <td>4</td>\n",
       "    </tr>\n",
       "    <tr>\n",
       "      <th>ID_d56d6f5f5</th>\n",
       "      <td>180000.0</td>\n",
       "      <td>0</td>\n",
       "      <td>5</td>\n",
       "      <td>0</td>\n",
       "      <td>1</td>\n",
       "      <td>1</td>\n",
       "      <td>1</td>\n",
       "      <td>1.0</td>\n",
       "      <td>0</td>\n",
       "      <td>2</td>\n",
       "      <td>...</td>\n",
       "      <td>121</td>\n",
       "      <td>1369</td>\n",
       "      <td>16</td>\n",
       "      <td>121</td>\n",
       "      <td>4</td>\n",
       "      <td>1.777778</td>\n",
       "      <td>1.0</td>\n",
       "      <td>121.0</td>\n",
       "      <td>1369</td>\n",
       "      <td>4</td>\n",
       "    </tr>\n",
       "  </tbody>\n",
       "</table>\n",
       "<p>5 rows × 142 columns</p>\n",
       "</div>"
      ],
      "text/plain": [
       "                  v2a1  hacdor  rooms  hacapo  v14a  refrig  v18q  v18q1  \\\n",
       "Id                                                                         \n",
       "ID_279628684  190000.0       0      3       0     1       1     0    NaN   \n",
       "ID_f29eb3ddd  135000.0       0      4       0     1       1     1    1.0   \n",
       "ID_68de51c94       NaN       0      8       0     1       1     0    NaN   \n",
       "ID_d671db89c  180000.0       0      5       0     1       1     1    1.0   \n",
       "ID_d56d6f5f5  180000.0       0      5       0     1       1     1    1.0   \n",
       "\n",
       "              r4h1  r4h2  ...  SQBescolari  SQBage  SQBhogar_total  SQBedjefe  \\\n",
       "Id                        ...                                                   \n",
       "ID_279628684     0     1  ...          100    1849               1        100   \n",
       "ID_f29eb3ddd     0     1  ...          144    4489               1        144   \n",
       "ID_68de51c94     0     0  ...          121    8464               1          0   \n",
       "ID_d671db89c     0     2  ...           81     289              16        121   \n",
       "ID_d56d6f5f5     0     2  ...          121    1369              16        121   \n",
       "\n",
       "              SQBhogar_nin  SQBovercrowding  SQBdependency  SQBmeaned  agesq  \\\n",
       "Id                                                                             \n",
       "ID_279628684             0         1.000000            0.0      100.0   1849   \n",
       "ID_f29eb3ddd             0         1.000000           64.0      144.0   4489   \n",
       "ID_68de51c94             0         0.250000           64.0      121.0   8464   \n",
       "ID_d671db89c             4         1.777778            1.0      121.0    289   \n",
       "ID_d56d6f5f5             4         1.777778            1.0      121.0   1369   \n",
       "\n",
       "              Target  \n",
       "Id                    \n",
       "ID_279628684       4  \n",
       "ID_f29eb3ddd       4  \n",
       "ID_68de51c94       4  \n",
       "ID_d671db89c       4  \n",
       "ID_d56d6f5f5       4  \n",
       "\n",
       "[5 rows x 142 columns]"
      ]
     },
     "execution_count": 4,
     "metadata": {},
     "output_type": "execute_result"
    }
   ],
   "source": [
    "#getting an overview of taining data\n",
    "iq_train.head()"
   ]
  },
  {
   "cell_type": "code",
   "execution_count": 5,
   "id": "2a725cc6",
   "metadata": {},
   "outputs": [
    {
     "data": {
      "text/html": [
       "<div>\n",
       "<style scoped>\n",
       "    .dataframe tbody tr th:only-of-type {\n",
       "        vertical-align: middle;\n",
       "    }\n",
       "\n",
       "    .dataframe tbody tr th {\n",
       "        vertical-align: top;\n",
       "    }\n",
       "\n",
       "    .dataframe thead th {\n",
       "        text-align: right;\n",
       "    }\n",
       "</style>\n",
       "<table border=\"1\" class=\"dataframe\">\n",
       "  <thead>\n",
       "    <tr style=\"text-align: right;\">\n",
       "      <th></th>\n",
       "      <th>v2a1</th>\n",
       "      <th>hacdor</th>\n",
       "      <th>rooms</th>\n",
       "      <th>hacapo</th>\n",
       "      <th>v14a</th>\n",
       "      <th>refrig</th>\n",
       "      <th>v18q</th>\n",
       "      <th>v18q1</th>\n",
       "      <th>r4h1</th>\n",
       "      <th>r4h2</th>\n",
       "      <th>...</th>\n",
       "      <th>age</th>\n",
       "      <th>SQBescolari</th>\n",
       "      <th>SQBage</th>\n",
       "      <th>SQBhogar_total</th>\n",
       "      <th>SQBedjefe</th>\n",
       "      <th>SQBhogar_nin</th>\n",
       "      <th>SQBovercrowding</th>\n",
       "      <th>SQBdependency</th>\n",
       "      <th>SQBmeaned</th>\n",
       "      <th>agesq</th>\n",
       "    </tr>\n",
       "    <tr>\n",
       "      <th>Id</th>\n",
       "      <th></th>\n",
       "      <th></th>\n",
       "      <th></th>\n",
       "      <th></th>\n",
       "      <th></th>\n",
       "      <th></th>\n",
       "      <th></th>\n",
       "      <th></th>\n",
       "      <th></th>\n",
       "      <th></th>\n",
       "      <th></th>\n",
       "      <th></th>\n",
       "      <th></th>\n",
       "      <th></th>\n",
       "      <th></th>\n",
       "      <th></th>\n",
       "      <th></th>\n",
       "      <th></th>\n",
       "      <th></th>\n",
       "      <th></th>\n",
       "      <th></th>\n",
       "    </tr>\n",
       "  </thead>\n",
       "  <tbody>\n",
       "    <tr>\n",
       "      <th>ID_2f6873615</th>\n",
       "      <td>NaN</td>\n",
       "      <td>0</td>\n",
       "      <td>5</td>\n",
       "      <td>0</td>\n",
       "      <td>1</td>\n",
       "      <td>1</td>\n",
       "      <td>0</td>\n",
       "      <td>NaN</td>\n",
       "      <td>1</td>\n",
       "      <td>1</td>\n",
       "      <td>...</td>\n",
       "      <td>4</td>\n",
       "      <td>0</td>\n",
       "      <td>16</td>\n",
       "      <td>9</td>\n",
       "      <td>0</td>\n",
       "      <td>1</td>\n",
       "      <td>2.25</td>\n",
       "      <td>0.25</td>\n",
       "      <td>272.25</td>\n",
       "      <td>16</td>\n",
       "    </tr>\n",
       "    <tr>\n",
       "      <th>ID_1c78846d2</th>\n",
       "      <td>NaN</td>\n",
       "      <td>0</td>\n",
       "      <td>5</td>\n",
       "      <td>0</td>\n",
       "      <td>1</td>\n",
       "      <td>1</td>\n",
       "      <td>0</td>\n",
       "      <td>NaN</td>\n",
       "      <td>1</td>\n",
       "      <td>1</td>\n",
       "      <td>...</td>\n",
       "      <td>41</td>\n",
       "      <td>256</td>\n",
       "      <td>1681</td>\n",
       "      <td>9</td>\n",
       "      <td>0</td>\n",
       "      <td>1</td>\n",
       "      <td>2.25</td>\n",
       "      <td>0.25</td>\n",
       "      <td>272.25</td>\n",
       "      <td>1681</td>\n",
       "    </tr>\n",
       "    <tr>\n",
       "      <th>ID_e5442cf6a</th>\n",
       "      <td>NaN</td>\n",
       "      <td>0</td>\n",
       "      <td>5</td>\n",
       "      <td>0</td>\n",
       "      <td>1</td>\n",
       "      <td>1</td>\n",
       "      <td>0</td>\n",
       "      <td>NaN</td>\n",
       "      <td>1</td>\n",
       "      <td>1</td>\n",
       "      <td>...</td>\n",
       "      <td>41</td>\n",
       "      <td>289</td>\n",
       "      <td>1681</td>\n",
       "      <td>9</td>\n",
       "      <td>0</td>\n",
       "      <td>1</td>\n",
       "      <td>2.25</td>\n",
       "      <td>0.25</td>\n",
       "      <td>272.25</td>\n",
       "      <td>1681</td>\n",
       "    </tr>\n",
       "    <tr>\n",
       "      <th>ID_a8db26a79</th>\n",
       "      <td>NaN</td>\n",
       "      <td>0</td>\n",
       "      <td>14</td>\n",
       "      <td>0</td>\n",
       "      <td>1</td>\n",
       "      <td>1</td>\n",
       "      <td>1</td>\n",
       "      <td>1.0</td>\n",
       "      <td>0</td>\n",
       "      <td>1</td>\n",
       "      <td>...</td>\n",
       "      <td>59</td>\n",
       "      <td>256</td>\n",
       "      <td>3481</td>\n",
       "      <td>1</td>\n",
       "      <td>256</td>\n",
       "      <td>0</td>\n",
       "      <td>1.00</td>\n",
       "      <td>0.00</td>\n",
       "      <td>256.00</td>\n",
       "      <td>3481</td>\n",
       "    </tr>\n",
       "    <tr>\n",
       "      <th>ID_a62966799</th>\n",
       "      <td>175000.0</td>\n",
       "      <td>0</td>\n",
       "      <td>4</td>\n",
       "      <td>0</td>\n",
       "      <td>1</td>\n",
       "      <td>1</td>\n",
       "      <td>1</td>\n",
       "      <td>1.0</td>\n",
       "      <td>0</td>\n",
       "      <td>0</td>\n",
       "      <td>...</td>\n",
       "      <td>18</td>\n",
       "      <td>121</td>\n",
       "      <td>324</td>\n",
       "      <td>1</td>\n",
       "      <td>0</td>\n",
       "      <td>1</td>\n",
       "      <td>0.25</td>\n",
       "      <td>64.00</td>\n",
       "      <td>NaN</td>\n",
       "      <td>324</td>\n",
       "    </tr>\n",
       "  </tbody>\n",
       "</table>\n",
       "<p>5 rows × 141 columns</p>\n",
       "</div>"
      ],
      "text/plain": [
       "                  v2a1  hacdor  rooms  hacapo  v14a  refrig  v18q  v18q1  \\\n",
       "Id                                                                         \n",
       "ID_2f6873615       NaN       0      5       0     1       1     0    NaN   \n",
       "ID_1c78846d2       NaN       0      5       0     1       1     0    NaN   \n",
       "ID_e5442cf6a       NaN       0      5       0     1       1     0    NaN   \n",
       "ID_a8db26a79       NaN       0     14       0     1       1     1    1.0   \n",
       "ID_a62966799  175000.0       0      4       0     1       1     1    1.0   \n",
       "\n",
       "              r4h1  r4h2  ...  age  SQBescolari  SQBage  SQBhogar_total  \\\n",
       "Id                        ...                                             \n",
       "ID_2f6873615     1     1  ...    4            0      16               9   \n",
       "ID_1c78846d2     1     1  ...   41          256    1681               9   \n",
       "ID_e5442cf6a     1     1  ...   41          289    1681               9   \n",
       "ID_a8db26a79     0     1  ...   59          256    3481               1   \n",
       "ID_a62966799     0     0  ...   18          121     324               1   \n",
       "\n",
       "              SQBedjefe  SQBhogar_nin  SQBovercrowding  SQBdependency  \\\n",
       "Id                                                                      \n",
       "ID_2f6873615          0             1             2.25           0.25   \n",
       "ID_1c78846d2          0             1             2.25           0.25   \n",
       "ID_e5442cf6a          0             1             2.25           0.25   \n",
       "ID_a8db26a79        256             0             1.00           0.00   \n",
       "ID_a62966799          0             1             0.25          64.00   \n",
       "\n",
       "              SQBmeaned  agesq  \n",
       "Id                              \n",
       "ID_2f6873615     272.25     16  \n",
       "ID_1c78846d2     272.25   1681  \n",
       "ID_e5442cf6a     272.25   1681  \n",
       "ID_a8db26a79     256.00   3481  \n",
       "ID_a62966799        NaN    324  \n",
       "\n",
       "[5 rows x 141 columns]"
      ]
     },
     "execution_count": 5,
     "metadata": {},
     "output_type": "execute_result"
    }
   ],
   "source": [
    "#getting an overview of test data\n",
    "iq_test.head()"
   ]
  },
  {
   "cell_type": "code",
   "execution_count": 6,
   "id": "213fb108",
   "metadata": {},
   "outputs": [
    {
     "name": "stdout",
     "output_type": "stream",
     "text": [
      "Datatypes in train data:\n",
      "\n",
      "int64      130\n",
      "float64      8\n",
      "object       4\n",
      "dtype: int64\n",
      "\n",
      "\n",
      "Datatypes in test data:\n",
      "\n",
      "int64      129\n",
      "float64      8\n",
      "object       4\n",
      "dtype: int64\n"
     ]
    }
   ],
   "source": [
    "#datatypes include in test and train datasets\n",
    "print(\"Datatypes in train data:\\n\")\n",
    "print(iq_train.dtypes.value_counts())\n",
    "print(\"\\n\\nDatatypes in test data:\\n\")\n",
    "print(iq_test.dtypes.value_counts())"
   ]
  },
  {
   "cell_type": "code",
   "execution_count": 7,
   "id": "6b2fda1d",
   "metadata": {},
   "outputs": [
    {
     "data": {
      "text/html": [
       "<div>\n",
       "<style scoped>\n",
       "    .dataframe tbody tr th:only-of-type {\n",
       "        vertical-align: middle;\n",
       "    }\n",
       "\n",
       "    .dataframe tbody tr th {\n",
       "        vertical-align: top;\n",
       "    }\n",
       "\n",
       "    .dataframe thead th {\n",
       "        text-align: right;\n",
       "    }\n",
       "</style>\n",
       "<table border=\"1\" class=\"dataframe\">\n",
       "  <thead>\n",
       "    <tr style=\"text-align: right;\">\n",
       "      <th></th>\n",
       "      <th>idhogar</th>\n",
       "      <th>dependency</th>\n",
       "      <th>edjefe</th>\n",
       "      <th>edjefa</th>\n",
       "    </tr>\n",
       "  </thead>\n",
       "  <tbody>\n",
       "    <tr>\n",
       "      <th>count</th>\n",
       "      <td>9557</td>\n",
       "      <td>9557</td>\n",
       "      <td>9557</td>\n",
       "      <td>9557</td>\n",
       "    </tr>\n",
       "    <tr>\n",
       "      <th>unique</th>\n",
       "      <td>2988</td>\n",
       "      <td>31</td>\n",
       "      <td>22</td>\n",
       "      <td>22</td>\n",
       "    </tr>\n",
       "    <tr>\n",
       "      <th>top</th>\n",
       "      <td>fd8a6d014</td>\n",
       "      <td>yes</td>\n",
       "      <td>no</td>\n",
       "      <td>no</td>\n",
       "    </tr>\n",
       "    <tr>\n",
       "      <th>freq</th>\n",
       "      <td>13</td>\n",
       "      <td>2192</td>\n",
       "      <td>3762</td>\n",
       "      <td>6230</td>\n",
       "    </tr>\n",
       "  </tbody>\n",
       "</table>\n",
       "</div>"
      ],
      "text/plain": [
       "          idhogar dependency edjefe edjefa\n",
       "count        9557       9557   9557   9557\n",
       "unique       2988         31     22     22\n",
       "top     fd8a6d014        yes     no     no\n",
       "freq           13       2192   3762   6230"
      ]
     },
     "execution_count": 7,
     "metadata": {},
     "output_type": "execute_result"
    }
   ],
   "source": [
    "#description of catagorical columns in train dataset\n",
    "iq_train.describe(include = 'object')"
   ]
  },
  {
   "cell_type": "code",
   "execution_count": 8,
   "id": "ae12af3f",
   "metadata": {},
   "outputs": [
    {
     "data": {
      "text/html": [
       "<div>\n",
       "<style scoped>\n",
       "    .dataframe tbody tr th:only-of-type {\n",
       "        vertical-align: middle;\n",
       "    }\n",
       "\n",
       "    .dataframe tbody tr th {\n",
       "        vertical-align: top;\n",
       "    }\n",
       "\n",
       "    .dataframe thead th {\n",
       "        text-align: right;\n",
       "    }\n",
       "</style>\n",
       "<table border=\"1\" class=\"dataframe\">\n",
       "  <thead>\n",
       "    <tr style=\"text-align: right;\">\n",
       "      <th></th>\n",
       "      <th>idhogar</th>\n",
       "      <th>dependency</th>\n",
       "      <th>edjefe</th>\n",
       "      <th>edjefa</th>\n",
       "    </tr>\n",
       "  </thead>\n",
       "  <tbody>\n",
       "    <tr>\n",
       "      <th>count</th>\n",
       "      <td>23856</td>\n",
       "      <td>23856</td>\n",
       "      <td>23856</td>\n",
       "      <td>23856</td>\n",
       "    </tr>\n",
       "    <tr>\n",
       "      <th>unique</th>\n",
       "      <td>7352</td>\n",
       "      <td>35</td>\n",
       "      <td>22</td>\n",
       "      <td>22</td>\n",
       "    </tr>\n",
       "    <tr>\n",
       "      <th>top</th>\n",
       "      <td>8e9159699</td>\n",
       "      <td>yes</td>\n",
       "      <td>no</td>\n",
       "      <td>no</td>\n",
       "    </tr>\n",
       "    <tr>\n",
       "      <th>freq</th>\n",
       "      <td>13</td>\n",
       "      <td>5388</td>\n",
       "      <td>9056</td>\n",
       "      <td>15845</td>\n",
       "    </tr>\n",
       "  </tbody>\n",
       "</table>\n",
       "</div>"
      ],
      "text/plain": [
       "          idhogar dependency edjefe edjefa\n",
       "count       23856      23856  23856  23856\n",
       "unique       7352         35     22     22\n",
       "top     8e9159699        yes     no     no\n",
       "freq           13       5388   9056  15845"
      ]
     },
     "execution_count": 8,
     "metadata": {},
     "output_type": "execute_result"
    }
   ],
   "source": [
    "#description of catagorical columns in test dataset\n",
    "iq_test.describe(include = 'object')"
   ]
  },
  {
   "cell_type": "markdown",
   "id": "bab8b6f1",
   "metadata": {},
   "source": [
    " 1. idhogar -> Household level identifier\n",
    " 2. dependency -> Dependency rate, calculated = (number of members of the household younger than 19 or older than 64)/(number of member of household between 19 and 64)\n",
    " 3. edjefe -> years of education of male head of household, based on the interaction of escolari (years of education), head of household and gender, yes=1 and no=0\n",
    " 4. edjefa -> years of education of female head of household, based on the interaction of escolari (years of education), head of household and gender, yes=1 and no=0"
   ]
  },
  {
   "cell_type": "code",
   "execution_count": 9,
   "id": "643d9e33",
   "metadata": {},
   "outputs": [
    {
     "data": {
      "text/plain": [
       "array(['21eb7fcc1', '0e5d7a658', '2c7317ea8', ..., 'a8eeafc29',\n",
       "       '212db6f6c', 'd6c086aa3'], dtype=object)"
      ]
     },
     "execution_count": 9,
     "metadata": {},
     "output_type": "execute_result"
    }
   ],
   "source": [
    "#Identify as house identifier (idhogar means businessman)\n",
    "iq_train.idhogar.unique()"
   ]
  },
  {
   "cell_type": "code",
   "execution_count": 10,
   "id": "12e3bae9",
   "metadata": {},
   "outputs": [
    {
     "data": {
      "image/png": "[encoded data removed]",
      "text/plain": [
       "<Figure size 1080x360 with 1 Axes>"
      ]
     },
     "metadata": {
      "needs_background": "light"
     },
     "output_type": "display_data"
    },
    {
     "data": {
      "text/plain": [
       "yes          2192\n",
       "no           1747\n",
       ".5           1497\n",
       "2             730\n",
       "1.5           713\n",
       ".33333334     598\n",
       ".66666669     487\n",
       "8             378\n",
       ".25           260\n",
       "3             236\n",
       "4             100\n",
       ".75            98\n",
       ".2             90\n",
       ".40000001      84\n",
       "1.3333334      84\n",
       "2.5            77\n",
       "5              24\n",
       "1.25           18\n",
       "3.5            18\n",
       ".80000001      18\n",
       "2.25           13\n",
       ".71428573      12\n",
       "1.75           11\n",
       "1.2            11\n",
       ".83333331      11\n",
       ".22222222      11\n",
       ".2857143        9\n",
       "1.6666666       8\n",
       ".60000002       8\n",
       "6               7\n",
       ".16666667       7\n",
       "Name: dependency, dtype: int64"
      ]
     },
     "execution_count": 10,
     "metadata": {},
     "output_type": "execute_result"
    }
   ],
   "source": [
    "# Preprocessing for the dependency columns :\n",
    "data = iq_train.dependency\n",
    "\n",
    "# Excluding the 'yes' and 'no' values to plot the remaining values\n",
    "plt.figure(figsize=(15,5))\n",
    "plt.hist(data[ data.isin(['no','yes']) == False ].astype('float'), rwidth=.8 , color=[\"Orange\"] , bins=50)\n",
    "plt.show()\n",
    "\n",
    "data.value_counts()"
   ]
  },
  {
   "cell_type": "markdown",
   "id": "25c69152",
   "metadata": {},
   "source": [
    "**Changing yesy and no in below three columns**\n",
    "\n",
    "1. dependency -> Dependency rate, calculated = (number of members of the household younger than 19 or older than 64)/(number of member of household between 19 and 64)\n",
    "2. edjefe -> years of education of male head of household, based on the interaction of escolari (years of education), head of household and gender, yes=1 and no=0\n",
    "3. edjefa -> years of education of female head of household, based on the interaction of escolari (years of education), head of household and gender, yes=1 and no=0\n",
    "\n",
    "**As we can see above thta for the attributes at 2 and 3 row the yes=1 and no=0. So, we will applu the same approach for depency**"
   ]
  },
  {
   "cell_type": "code",
   "execution_count": 11,
   "id": "d5966d5b",
   "metadata": {},
   "outputs": [],
   "source": [
    "# Decision : no = 0 & yes = 1, then convert all the other values to float in the 'dependency' column\n",
    "iq_train.dependency = iq_train.dependency.replace('no',0).replace('yes',1).astype('float')\n",
    "iq_test.dependency = iq_test.dependency.replace('no',0).replace('yes',1).astype('float')"
   ]
  },
  {
   "cell_type": "code",
   "execution_count": 12,
   "id": "fee1b71a",
   "metadata": {},
   "outputs": [
    {
     "data": {
      "image/png": "[encoded data removed]",
      "text/plain": [
       "<Figure size 1080x360 with 1 Axes>"
      ]
     },
     "metadata": {
      "needs_background": "light"
     },
     "output_type": "display_data"
    },
    {
     "data": {
      "text/plain": [
       "no     3762\n",
       "6      1845\n",
       "11      751\n",
       "9       486\n",
       "3       307\n",
       "15      285\n",
       "8       257\n",
       "7       234\n",
       "5       222\n",
       "14      208\n",
       "17      202\n",
       "2       194\n",
       "4       137\n",
       "16      134\n",
       "yes     123\n",
       "12      113\n",
       "10      111\n",
       "13      103\n",
       "21       43\n",
       "18       19\n",
       "19       14\n",
       "20        7\n",
       "Name: edjefe, dtype: int64"
      ]
     },
     "execution_count": 12,
     "metadata": {},
     "output_type": "execute_result"
    }
   ],
   "source": [
    "# Preprocessing for the 'edjefe' columns (males years of education) :\n",
    "data = iq_train.edjefe\n",
    "\n",
    "# Excluding the 'yes' and 'no' values to plot the remaining values\n",
    "plt.figure(figsize=(15,5))\n",
    "plt.hist(data[ data.isin(['no','yes']) == False ].astype('float'), rwidth=.8 , color=[\"Orange\"] , bins=50)\n",
    "plt.show()\n",
    "\n",
    "data.value_counts()"
   ]
  },
  {
   "cell_type": "code",
   "execution_count": 13,
   "id": "a90996d9",
   "metadata": {},
   "outputs": [],
   "source": [
    "# Decision : no = 0 & yes = 1, then convert all the other values to float in the 'edjefe' column\n",
    "\n",
    "# Find the median value by exclusing 'yes' & 'no'\n",
    "iq_train.edjefe = iq_train.edjefe.replace('no',0).replace('yes',1).astype('float')\n",
    "iq_test.edjefe = iq_test.edjefe.replace('no',0).replace('yes',1).astype('float')"
   ]
  },
  {
   "cell_type": "code",
   "execution_count": 14,
   "id": "2ec75c8f",
   "metadata": {},
   "outputs": [
    {
     "data": {
      "image/png": "[encoded data removed]",
      "text/plain": [
       "<Figure size 1080x360 with 1 Axes>"
      ]
     },
     "metadata": {
      "needs_background": "light"
     },
     "output_type": "display_data"
    },
    {
     "data": {
      "text/plain": [
       "no     6230\n",
       "6       947\n",
       "11      399\n",
       "9       237\n",
       "8       217\n",
       "15      188\n",
       "7       179\n",
       "5       176\n",
       "3       152\n",
       "4       136\n",
       "14      120\n",
       "16      113\n",
       "10       96\n",
       "2        84\n",
       "17       76\n",
       "12       72\n",
       "yes      69\n",
       "13       52\n",
       "21        5\n",
       "19        4\n",
       "18        3\n",
       "20        2\n",
       "Name: edjefa, dtype: int64"
      ]
     },
     "execution_count": 14,
     "metadata": {},
     "output_type": "execute_result"
    }
   ],
   "source": [
    "# Preprocessing for 'edjefa' column (female years of education) :\n",
    "data = iq_train.edjefa\n",
    "\n",
    "# Excluding the 'yes' and 'no' values to plot the remaining values\n",
    "plt.figure(figsize=(15,5))\n",
    "plt.hist(data[ data.isin(['no','yes']) == False ].astype('float'), rwidth=.8 , color=[\"Orange\"] , bins=50)\n",
    "plt.show()\n",
    "\n",
    "data.value_counts()"
   ]
  },
  {
   "cell_type": "code",
   "execution_count": 15,
   "id": "8f046346",
   "metadata": {},
   "outputs": [],
   "source": [
    "# Decision : no = 0 & yes = 1, then convert all the other values to float in the 'edjefa' column\n",
    "\n",
    "# Find the median value by exclusing 'yes' & 'no'\n",
    "iq_train.edjefa = iq_train.edjefa.replace('no',0).replace('yes',1).astype('float')\n",
    "iq_test.edjefa = iq_test.edjefa.replace('no',0).replace('yes',1).astype('float')"
   ]
  },
  {
   "cell_type": "markdown",
   "id": "c7e8735a",
   "metadata": {},
   "source": [
    "**Handling the missing/Null values in the table**"
   ]
  },
  {
   "cell_type": "code",
   "execution_count": 16,
   "id": "db91d477",
   "metadata": {},
   "outputs": [
    {
     "data": {
      "text/plain": [
       "v2a1         6860\n",
       "v18q1        7342\n",
       "rez_esc      7928\n",
       "meaneduc        5\n",
       "SQBmeaned       5\n",
       "dtype: int64"
      ]
     },
     "execution_count": 16,
     "metadata": {},
     "output_type": "execute_result"
    }
   ],
   "source": [
    "# Checking for Missing Values in 'train' :\n",
    "null_columns = iq_train.columns[iq_train.isnull().any()]\n",
    "iq_train[null_columns].isnull().sum()"
   ]
  },
  {
   "cell_type": "code",
   "execution_count": 17,
   "id": "1d7a25fd",
   "metadata": {},
   "outputs": [
    {
     "data": {
      "text/plain": [
       "v2a1         17403\n",
       "v18q1        18126\n",
       "rez_esc      19653\n",
       "meaneduc        31\n",
       "SQBmeaned       31\n",
       "dtype: int64"
      ]
     },
     "execution_count": 17,
     "metadata": {},
     "output_type": "execute_result"
    }
   ],
   "source": [
    "# Checking for Missing Values in 'test' :\n",
    "null_columns = iq_test.columns[iq_test.isnull().any()]\n",
    "iq_test[null_columns].isnull().sum()"
   ]
  },
  {
   "cell_type": "markdown",
   "id": "3f91ab3e",
   "metadata": {},
   "source": [
    "**Observation:**\n",
    "\n",
    "- Both test and train data contains same columns i.e. <i>\"v2a1\", \"v18q1\" , \"rez_esc\"</i> has lots of null values.\n",
    "\n",
    "- There are two other columns i.e. <i>\"meaneduc\", \"SQBmeaned\"</i> we will handle these with median as the null values are very low.\n",
    "\n",
    "  - <b><i>lest try our approach to handle missing values</i></b>"
   ]
  },
  {
   "cell_type": "code",
   "execution_count": 18,
   "id": "da0a1205",
   "metadata": {},
   "outputs": [
    {
     "name": "stdout",
     "output_type": "stream",
     "text": [
      "Percentage of null values in `train['v2a1']` column :  71.7798472323951\n",
      "Percentage of null values in `train['v18q1']` column :  76.82327090091033\n",
      "Percentage of null values in `train['rez_esc']` column :  82.95490216595167\n",
      "Percentage of null values in `train['rez_esc']` column :  0.05231767290990897\n",
      "Percentage of null values in `train['rez_esc']` column :  0.05231767290990897\n"
     ]
    }
   ],
   "source": [
    "# Moderate Approach : If a column has 50% or more number of null values then we can drop that column\n",
    "# otherwise, if it is less than 10% to 12% then we can go for Imputation\n",
    "\n",
    "# Check the percentage (%) of null values in the above columns in the 'train'\n",
    "# so that we can decide to go for either drop' or 'computation' \n",
    "\n",
    "print(\"Percentage of null values in `train['v2a1']` column : \", (iq_train['v2a1'].isnull().sum()/iq_train.shape[0]*100))\n",
    "print(\"Percentage of null values in `train['v18q1']` column : \", (iq_train['v18q1'].isnull().sum()/iq_train.shape[0]*100))\n",
    "print(\"Percentage of null values in `train['rez_esc']` column : \", (iq_train['rez_esc'].isnull().sum()/iq_train.shape[0]*100))\n",
    "print(\"Percentage of null values in `train['rez_esc']` column : \", (iq_train['meaneduc'].isnull().sum()/iq_train.shape[0]*100))\n",
    "print(\"Percentage of null values in `train['rez_esc']` column : \", (iq_train['SQBmeaned'].isnull().sum()/iq_train.shape[0]*100))"
   ]
  },
  {
   "cell_type": "code",
   "execution_count": 19,
   "id": "da68c323",
   "metadata": {},
   "outputs": [
    {
     "name": "stdout",
     "output_type": "stream",
     "text": [
      "Percentage of null values in `test['v2a1']` column :  72.95020120724345\n",
      "Percentage of null values in `test['v18q1']` column :  75.98088531187123\n",
      "Percentage of null values in `test['rez_esc']` column :  82.3817907444668\n",
      "Percentage of null values in `test['meaneduc']` column :  0.12994634473507713\n",
      "Percentage of null values in `test['SQBmeaned']` column :  0.12994634473507713\n"
     ]
    }
   ],
   "source": [
    "# Moderate Approach : If a column has 50% or more number of null values then we can drop that column\n",
    "# otherwise, if it is less than 10% to 12% then we can go for Imputation\n",
    "\n",
    "# Check the percentage (%) of null values in the above columns in the 'test'\n",
    "# so that we can decide to go for either drop' or 'computation' \n",
    "\n",
    "print(\"Percentage of null values in `test['v2a1']` column : \", (iq_test['v2a1'].isnull().sum()/iq_test.shape[0]*100))\n",
    "print(\"Percentage of null values in `test['v18q1']` column : \", (iq_test['v18q1'].isnull().sum()/iq_test.shape[0]*100))\n",
    "print(\"Percentage of null values in `test['rez_esc']` column : \", (iq_test['rez_esc'].isnull().sum()/iq_test.shape[0]*100))\n",
    "print(\"Percentage of null values in `test['meaneduc']` column : \", (iq_test['meaneduc'].isnull().sum()/iq_test.shape[0]*100))\n",
    "print(\"Percentage of null values in `test['SQBmeaned']` column : \", (iq_test['SQBmeaned'].isnull().sum()/iq_test.shape[0]*100))"
   ]
  },
  {
   "cell_type": "markdown",
   "id": "0d1d4a64",
   "metadata": {},
   "source": [
    "**We will drop 'v2a1','v18q1','rez_esc' columns from train and test data as these contain high percentage of null values**\n",
    "\n",
    "**Lets take a look at each column one by one**"
   ]
  },
  {
   "cell_type": "markdown",
   "id": "a9bea369",
   "metadata": {},
   "source": [
    "#### 1. v2a1: Monthly rent payment"
   ]
  },
  {
   "cell_type": "markdown",
   "id": "994cb0bd",
   "metadata": {},
   "source": [
    "- Let's look at v2a1: Monthly rent payment \n",
    "    - why the null values, Let's look at few rows with nulls in v2a1\n",
    "    - Columns related to \"v2a1: Monthly rent payment\"\n",
    "        - tipovivi1 =1 own and fully paid house\n",
    "        - tipovivi2 =1 own, paying in installments\"\n",
    "        - tipovivi3 =1 rented\n",
    "        - tipovivi4 =1 precarious \n",
    "        - tipovivi5 =1 other(assigned, borrowed)\""
   ]
  },
  {
   "cell_type": "code",
   "execution_count": 20,
   "id": "91481404",
   "metadata": {},
   "outputs": [
    {
     "data": {
      "text/html": [
       "<div>\n",
       "<style scoped>\n",
       "    .dataframe tbody tr th:only-of-type {\n",
       "        vertical-align: middle;\n",
       "    }\n",
       "\n",
       "    .dataframe tbody tr th {\n",
       "        vertical-align: top;\n",
       "    }\n",
       "\n",
       "    .dataframe thead th {\n",
       "        text-align: right;\n",
       "    }\n",
       "</style>\n",
       "<table border=\"1\" class=\"dataframe\">\n",
       "  <thead>\n",
       "    <tr style=\"text-align: right;\">\n",
       "      <th></th>\n",
       "      <th>tipovivi1</th>\n",
       "      <th>tipovivi2</th>\n",
       "      <th>tipovivi3</th>\n",
       "      <th>tipovivi4</th>\n",
       "      <th>tipovivi5</th>\n",
       "    </tr>\n",
       "    <tr>\n",
       "      <th>Id</th>\n",
       "      <th></th>\n",
       "      <th></th>\n",
       "      <th></th>\n",
       "      <th></th>\n",
       "      <th></th>\n",
       "    </tr>\n",
       "  </thead>\n",
       "  <tbody>\n",
       "    <tr>\n",
       "      <th>ID_68de51c94</th>\n",
       "      <td>1</td>\n",
       "      <td>0</td>\n",
       "      <td>0</td>\n",
       "      <td>0</td>\n",
       "      <td>0</td>\n",
       "    </tr>\n",
       "    <tr>\n",
       "      <th>ID_064b57869</th>\n",
       "      <td>1</td>\n",
       "      <td>0</td>\n",
       "      <td>0</td>\n",
       "      <td>0</td>\n",
       "      <td>0</td>\n",
       "    </tr>\n",
       "    <tr>\n",
       "      <th>ID_5c837d8a4</th>\n",
       "      <td>1</td>\n",
       "      <td>0</td>\n",
       "      <td>0</td>\n",
       "      <td>0</td>\n",
       "      <td>0</td>\n",
       "    </tr>\n",
       "    <tr>\n",
       "      <th>ID_e5cdba865</th>\n",
       "      <td>1</td>\n",
       "      <td>0</td>\n",
       "      <td>0</td>\n",
       "      <td>0</td>\n",
       "      <td>0</td>\n",
       "    </tr>\n",
       "    <tr>\n",
       "      <th>ID_e24d9c3c9</th>\n",
       "      <td>1</td>\n",
       "      <td>0</td>\n",
       "      <td>0</td>\n",
       "      <td>0</td>\n",
       "      <td>0</td>\n",
       "    </tr>\n",
       "  </tbody>\n",
       "</table>\n",
       "</div>"
      ],
      "text/plain": [
       "              tipovivi1  tipovivi2  tipovivi3  tipovivi4  tipovivi5\n",
       "Id                                                                 \n",
       "ID_68de51c94          1          0          0          0          0\n",
       "ID_064b57869          1          0          0          0          0\n",
       "ID_5c837d8a4          1          0          0          0          0\n",
       "ID_e5cdba865          1          0          0          0          0\n",
       "ID_e24d9c3c9          1          0          0          0          0"
      ]
     },
     "execution_count": 20,
     "metadata": {},
     "output_type": "execute_result"
    }
   ],
   "source": [
    "data = iq_train[iq_train['v2a1'].isnull()].head()\n",
    "\n",
    "columns=['tipovivi1','tipovivi2','tipovivi3','tipovivi4','tipovivi5']\n",
    "data[columns]"
   ]
  },
  {
   "cell_type": "code",
   "execution_count": 21,
   "id": "3085bee1",
   "metadata": {},
   "outputs": [
    {
     "data": {
      "image/png": "[encoded data removed]",
      "text/plain": [
       "<Figure size 576x360 with 1 Axes>"
      ]
     },
     "metadata": {
      "needs_background": "light"
     },
     "output_type": "display_data"
    }
   ],
   "source": [
    "# Columns that indicates home ownership\n",
    "own_columns = [x for x in iq_train if x.startswith('tipovivi')]\n",
    "\n",
    "# Plot of the Ownership Status for Missing Rents\n",
    "iq_train.loc[iq_train['v2a1'].isnull(), own_columns].sum().plot.bar(figsize = (8, 5), color = 'orange', edgecolor = 'k', linewidth = 2);\n",
    "plt.xticks([0, 1, 2, 3, 4], ['Owns/fully paid', 'Owns/Paying in installment', 'Rented', 'Precarious', 'Other'], rotation = 25)\n",
    "plt.title('Ownership Status for Missing Rents', size = 15);"
   ]
  },
  {
   "cell_type": "code",
   "execution_count": 22,
   "id": "b5e9344a",
   "metadata": {},
   "outputs": [
    {
     "data": {
      "image/png": "[encoded data removed]",
      "text/plain": [
       "<Figure size 576x360 with 1 Axes>"
      ]
     },
     "metadata": {
      "needs_background": "light"
     },
     "output_type": "display_data"
    }
   ],
   "source": [
    "# Columns that indicates home ownership\n",
    "own_columnst = [x for x in iq_test if x.startswith('tipovivi')]\n",
    "\n",
    "# Plot of the Ownership Status for Missing Rents\n",
    "iq_test.loc[iq_test['v2a1'].isnull(), own_columnst].sum().plot.bar(figsize = (8, 5), color = 'orange', edgecolor = 'k', linewidth = 2);\n",
    "plt.xticks([0, 1, 2, 3, 4], ['Owns/fully paid', 'Owns/Paying in installment', 'Rented', 'Precarious', 'Other'], rotation = 25)\n",
    "plt.title('Ownership Status for Missing Rents', size = 15);"
   ]
  },
  {
   "cell_type": "markdown",
   "id": "3e2eb909",
   "metadata": {},
   "source": [
    "**By looking at the abobe graphs it makes sense that when a person has full ownership, there will be no rent paid by person so we will fill null values with 0.**"
   ]
  },
  {
   "cell_type": "code",
   "execution_count": 23,
   "id": "620a11ec",
   "metadata": {},
   "outputs": [
    {
     "name": "stdout",
     "output_type": "stream",
     "text": [
      "Null Values in train['v2a1'] :  0\n",
      "Null Values in test['v2a1'] :  0\n"
     ]
    }
   ],
   "source": [
    "#Lets add 0 for all the null values.\n",
    "iq_train['v2a1'].fillna(value=0, inplace=True)\n",
    "iq_test['v2a1'].fillna(value=0, inplace=True)\n",
    "print(\"Null Values in train['v2a1'] : \",iq_train['v2a1'].isnull().sum())\n",
    "print(\"Null Values in test['v2a1'] : \",iq_test['v2a1'].isnull().sum())"
   ]
  },
  {
   "cell_type": "markdown",
   "id": "f9f3cc5f",
   "metadata": {},
   "source": [
    "#### 2. v18q1: Monthly rent payment"
   ]
  },
  {
   "cell_type": "markdown",
   "id": "68cd67e6",
   "metadata": {},
   "source": [
    "- Let's look at v18q1: number of tablets household owns\n",
    "    - why the null values, Let's look at few rows with nulls in v18q1\n",
    "    - Columns related to \"v2a1: number of tablets household owns\"\n",
    "        - v18q = owns a tablet"
   ]
  },
  {
   "cell_type": "code",
   "execution_count": 24,
   "id": "0981afa5",
   "metadata": {},
   "outputs": [
    {
     "name": "stdout",
     "output_type": "stream",
     "text": [
      "unique values in train['v18q']: [0 1]\n",
      "unique values in test['v18q']: [0 1]\n"
     ]
    }
   ],
   "source": [
    "#lest check the unique values in v18q\n",
    "print(\"unique values in train['v18q']:\",iq_train[\"v18q\"].unique())\n",
    "print(\"unique values in test['v18q']:\",iq_test[\"v18q\"].unique())"
   ]
  },
  {
   "cell_type": "markdown",
   "id": "5c09bb7f",
   "metadata": {},
   "source": [
    "- <b>Where 0 represents Houshold owns a tablet and 1 represents household doesnot owns a tablet</b>\n",
    "    - Now take a looks where the null values exist in v18q1 "
   ]
  },
  {
   "cell_type": "code",
   "execution_count": 25,
   "id": "4ea52dd4",
   "metadata": {},
   "outputs": [
    {
     "name": "stdout",
     "output_type": "stream",
     "text": [
      "Train data set:\n",
      "\n",
      "v18q\n",
      "0    7342\n",
      "1       0\n",
      "Name: v18q1, dtype: int64\n",
      "----------------------------------------------------------------------------------------------------------------\n",
      "Test data set:\n",
      "\n",
      "v18q\n",
      "0    18126\n",
      "1        0\n",
      "Name: v18q1, dtype: int64\n"
     ]
    }
   ],
   "source": [
    "print(\"Train data set:\\n\")\n",
    "print(iq_train.groupby('v18q')['v18q1'].apply(lambda x: x.isnull().sum()))\n",
    "print(\"----------------------------------------------------------------------------------------------------------------\")\n",
    "print(\"Test data set:\\n\")\n",
    "print(iq_test.groupby('v18q')['v18q1'].apply(lambda x: x.isnull().sum()))"
   ]
  },
  {
   "cell_type": "markdown",
   "id": "5a794147",
   "metadata": {},
   "source": [
    "**As we can clearly see that only columns where the household does not have any tablets the values are null so we can replace all the null values with zero which makes more sense**"
   ]
  },
  {
   "cell_type": "code",
   "execution_count": 26,
   "id": "c740a0f3",
   "metadata": {},
   "outputs": [
    {
     "name": "stdout",
     "output_type": "stream",
     "text": [
      "Null Values in train['v18q1'] :  0\n",
      "Null Values in test['v18q1'] :  0\n"
     ]
    }
   ],
   "source": [
    "#Let's add 0 for all the null values.\n",
    "iq_train['v18q1'].fillna(value=0, inplace=True)\n",
    "iq_test['v18q1'].fillna(value=0, inplace=True)\n",
    "print(\"Null Values in train['v18q1'] : \",iq_train['v18q1'].isnull().sum())\n",
    "print(\"Null Values in test['v18q1'] : \",iq_test['v18q1'].isnull().sum())"
   ]
  },
  {
   "cell_type": "markdown",
   "id": "3627b0e0",
   "metadata": {},
   "source": [
    "#### 3. rez_esc: Monthly rent payment "
   ]
  },
  {
   "cell_type": "markdown",
   "id": "19179115",
   "metadata": {},
   "source": [
    "- Let's look at rez_esc: Years behind in school  \n",
    "  - why the null values, Let's look at few rows with nulls in rez_esc\n",
    "  - Columns related to Years behind in school \n",
    "    - Age in years"
   ]
  },
  {
   "cell_type": "code",
   "execution_count": 27,
   "id": "4e22511b",
   "metadata": {},
   "outputs": [
    {
     "data": {
      "text/plain": [
       "age\n",
       "0     256\n",
       "1     281\n",
       "2     294\n",
       "3     307\n",
       "4     346\n",
       "     ... \n",
       "93      8\n",
       "94     12\n",
       "95      7\n",
       "96      7\n",
       "97     13\n",
       "Name: rez_esc, Length: 98, dtype: int64"
      ]
     },
     "execution_count": 27,
     "metadata": {},
     "output_type": "execute_result"
    }
   ],
   "source": [
    "iq_test.groupby('age')['rez_esc'].apply(lambda x: x.isnull().sum())"
   ]
  },
  {
   "cell_type": "code",
   "execution_count": 28,
   "id": "b40c18e8",
   "metadata": {},
   "outputs": [
    {
     "name": "stdout",
     "output_type": "stream",
     "text": [
      "Train dtatset:\n",
      " \n",
      "count    1629.000000\n",
      "mean       12.258441\n",
      "std         3.218325\n",
      "min         7.000000\n",
      "25%         9.000000\n",
      "50%        12.000000\n",
      "75%        15.000000\n",
      "max        17.000000\n",
      "Name: age, dtype: float64\n",
      "----------------------------------------------------------------------------------------------------------------------\n",
      "Test dtatset:\n",
      " \n",
      "count    4203.000000\n",
      "mean       12.157507\n",
      "std         3.190886\n",
      "min         7.000000\n",
      "25%         9.000000\n",
      "50%        12.000000\n",
      "75%        15.000000\n",
      "max        17.000000\n",
      "Name: age, dtype: float64\n"
     ]
    }
   ],
   "source": [
    "#Let's look at not null values.\n",
    "print(\"Train dtatset:\\n \")\n",
    "print(iq_train[iq_train['rez_esc'].notnull()]['age'].describe())\n",
    "print(\"----------------------------------------------------------------------------------------------------------------------\")\n",
    "print(\"Test dtatset:\\n \")\n",
    "print(iq_test[iq_test['rez_esc'].notnull()]['age'].describe())"
   ]
  },
  {
   "cell_type": "code",
   "execution_count": 29,
   "id": "e15bd5de",
   "metadata": {},
   "outputs": [
    {
     "name": "stdout",
     "output_type": "stream",
     "text": [
      "Train dtatset:\n",
      " \n",
      "count    7928.000000\n",
      "mean       38.833249\n",
      "std        20.989486\n",
      "min         0.000000\n",
      "25%        24.000000\n",
      "50%        38.000000\n",
      "75%        54.000000\n",
      "max        97.000000\n",
      "Name: age, dtype: float64\n",
      "----------------------------------------------------------------------------------------------------------------------\n",
      "Test dtatset:\n",
      " \n",
      "count    19653.000000\n",
      "mean        39.222561\n",
      "std         20.980039\n",
      "min          0.000000\n",
      "25%         24.000000\n",
      "50%         38.000000\n",
      "75%         55.000000\n",
      "max         97.000000\n",
      "Name: age, dtype: float64\n"
     ]
    }
   ],
   "source": [
    "#Let's look at null values\n",
    "print(\"Train dtatset:\\n \")\n",
    "print(iq_train[iq_train['rez_esc'].isnull()]['age'].describe())\n",
    "print(\"----------------------------------------------------------------------------------------------------------------------\")\n",
    "print(\"Test dtatset:\\n \")\n",
    "print(iq_test[iq_test['rez_esc'].isnull()]['age'].describe())"
   ]
  },
  {
   "cell_type": "markdown",
   "id": "8b8f0c34",
   "metadata": {},
   "source": [
    "**Let's see if there is any column exist between 7 o 17 where the value is null ast the not null observation shows us that there is no column null between 7 to 17**"
   ]
  },
  {
   "cell_type": "code",
   "execution_count": 30,
   "id": "c0cb6023",
   "metadata": {},
   "outputs": [
    {
     "name": "stdout",
     "output_type": "stream",
     "text": [
      "Train dtatset:\n",
      " \n",
      "count     1.0\n",
      "mean     10.0\n",
      "std       NaN\n",
      "min      10.0\n",
      "25%      10.0\n",
      "50%      10.0\n",
      "75%      10.0\n",
      "max      10.0\n",
      "Name: age, dtype: float64\n",
      "----------------------------------------------------------------------------------------------------------------------\n",
      "Test dtatset:\n",
      " \n",
      "count     3.000000\n",
      "mean     11.333333\n",
      "std       3.214550\n",
      "min       9.000000\n",
      "25%       9.500000\n",
      "50%      10.000000\n",
      "75%      12.500000\n",
      "max      15.000000\n",
      "Name: age, dtype: float64\n"
     ]
    }
   ],
   "source": [
    "\n",
    "print(\"Train dtatset:\\n \")\n",
    "print(iq_train.loc[(iq_train['rez_esc'].isnull() & ((iq_train['age'] > 7) & (iq_train['age'] < 17)))]['age'].describe())\n",
    "print(\"----------------------------------------------------------------------------------------------------------------------\")\n",
    "print(\"Test dtatset:\\n \")\n",
    "print(iq_test.loc[(iq_test['rez_esc'].isnull() & ((iq_test['age'] > 7) & (iq_test['age'] < 17)))]['age'].describe())"
   ]
  },
  {
   "cell_type": "markdown",
   "id": "bf37078b",
   "metadata": {},
   "source": [
    "**There are only 1 member in train dataset and 3 members in test dataset which has null values and exist between 7 and seventeen**\n",
    "\n",
    "**We can move ahead and can replace null values with 0**"
   ]
  },
  {
   "cell_type": "code",
   "execution_count": 31,
   "id": "576dbe0e",
   "metadata": {},
   "outputs": [
    {
     "name": "stdout",
     "output_type": "stream",
     "text": [
      "Null Values in train['rez_esc'] :  0\n",
      "Null Values in test['rez_esc'] :  0\n"
     ]
    }
   ],
   "source": [
    "#Let's add 0 for all the null values.\n",
    "iq_train['rez_esc'].fillna(value=0, inplace=True)\n",
    "iq_test['rez_esc'].fillna(value=0, inplace=True)\n",
    "print(\"Null Values in train['rez_esc'] : \",iq_train['rez_esc'].isnull().sum())\n",
    "print(\"Null Values in test['rez_esc'] : \",iq_test['rez_esc'].isnull().sum())"
   ]
  },
  {
   "cell_type": "markdown",
   "id": "37193b5a",
   "metadata": {},
   "source": [
    "#### 4. meaneduc: average years of education for adults (18+)\n",
    "#### 5. SQBmeaned: square of the mean years of education of adults (>=18) in the"
   ]
  },
  {
   "cell_type": "markdown",
   "id": "3bc8f962",
   "metadata": {},
   "source": [
    "- **These columns has only few null values so will opt to apply impurtation here to fill the null values**"
   ]
  },
  {
   "cell_type": "code",
   "execution_count": 32,
   "id": "c5d291d4",
   "metadata": {},
   "outputs": [],
   "source": [
    "from sklearn.impute import SimpleImputer\n",
    "SimpleImputer = SimpleImputer(missing_values = np.nan, strategy='median')\n",
    "SimpleImputer.fit(iq_train[['meaneduc','SQBmeaned']])\n",
    "\n",
    "iq_train[['meaneduc','SQBmeaned']] = SimpleImputer.transform(iq_train[['meaneduc','SQBmeaned']])\n",
    "iq_test[['meaneduc','SQBmeaned']] = SimpleImputer.transform(iq_test[['meaneduc','SQBmeaned']])"
   ]
  },
  {
   "cell_type": "code",
   "execution_count": 33,
   "id": "7fdc5aca",
   "metadata": {},
   "outputs": [
    {
     "name": "stdout",
     "output_type": "stream",
     "text": [
      "Null vlaues in train :  0\n",
      "Null vlaues in test :  0\n"
     ]
    }
   ],
   "source": [
    "print(\"Null vlaues in train : \",iq_train.isnull().any().sum())\n",
    "print(\"Null vlaues in test : \",iq_test.isnull().any().sum())"
   ]
  },
  {
   "cell_type": "markdown",
   "id": "fbcd7889",
   "metadata": {},
   "source": [
    "**Now our data is clean an we can move ahead**"
   ]
  },
  {
   "cell_type": "markdown",
   "id": "9ea8aa9a",
   "metadata": {},
   "source": [
    "## Task 3: Check if there are any biases in your dataset"
   ]
  },
  {
   "cell_type": "code",
   "execution_count": 34,
   "id": "06e28ec0",
   "metadata": {},
   "outputs": [
    {
     "data": {
      "image/png": "[encoded data removed]",
      "text/plain": [
       "<Figure size 720x360 with 1 Axes>"
      ]
     },
     "metadata": {
      "needs_background": "light"
     },
     "output_type": "display_data"
    }
   ],
   "source": [
    "plt.figure(figsize=(10,5))\n",
    "plt.title(\"Bias in data:\", size=30)\n",
    "sns.countplot(x=\"Target\", data=iq_train)\n",
    "plt.show()"
   ]
  },
  {
   "cell_type": "markdown",
   "id": "aecacfaf",
   "metadata": {},
   "source": [
    "**Observation: Yes, the data is biased and we can clearly see that there data is much inclined toward the value 4**"
   ]
  },
  {
   "cell_type": "markdown",
   "id": "c5b8d762",
   "metadata": {},
   "source": [
    "## Task 4: Check whether all members of the house have the same poverty level "
   ]
  },
  {
   "cell_type": "code",
   "execution_count": 35,
   "id": "62d3b0e8",
   "metadata": {},
   "outputs": [
    {
     "name": "stdout",
     "output_type": "stream",
     "text": [
      "No. of unique values in 'idhogar' : 2988\n",
      "No. of total rows in 'train' : 9557\n"
     ]
    }
   ],
   "source": [
    "print(\"No. of unique values in 'idhogar' :\", (iq_train.idhogar.nunique()))\n",
    "print(\"No. of total rows in 'train' :\", (iq_train.shape[0]))"
   ]
  },
  {
   "cell_type": "code",
   "execution_count": 36,
   "id": "1c417e9c",
   "metadata": {},
   "outputs": [
    {
     "name": "stdout",
     "output_type": "stream",
     "text": [
      "There are 2988 households where the family members do not all have the same poverty level.\n",
      "Index(['001ff74ca', '003123ec2', '004616164', '004983866', '005905417',\n",
      "       '006031de3', '006555fe2', '00693f597', '006b64543', '00941f1f4',\n",
      "       ...\n",
      "       'ff250fd6c', 'ff31b984b', 'ff38ddef1', 'ff6d16fd0', 'ff703eed4',\n",
      "       'ff9343a35', 'ff9d5ab17', 'ffae4a097', 'ffe90d46f', 'fff7d6be1'],\n",
      "      dtype='object', name='idhogar', length=2988)\n"
     ]
    }
   ],
   "source": [
    "not_equal = (iq_train.groupby(\"idhogar\")['Target'].nunique()>1).index\n",
    "print('There are {} households where the family members do not all have the same poverty level.'.format(len(not_equal)))\n",
    "print(not_equal)"
   ]
  },
  {
   "cell_type": "markdown",
   "id": "e664af1f",
   "metadata": {},
   "source": [
    "## Task 5: Check if there is a house without a family head"
   ]
  },
  {
   "cell_type": "code",
   "execution_count": 37,
   "id": "b3dbd83f",
   "metadata": {},
   "outputs": [
    {
     "name": "stdout",
     "output_type": "stream",
     "text": [
      "Number of house Identifier without a family head : 2988\n",
      "Index(['001ff74ca', '003123ec2', '004616164', '004983866', '005905417',\n",
      "       '006031de3', '006555fe2', '00693f597', '006b64543', '00941f1f4',\n",
      "       ...\n",
      "       'ff250fd6c', 'ff31b984b', 'ff38ddef1', 'ff6d16fd0', 'ff703eed4',\n",
      "       'ff9343a35', 'ff9d5ab17', 'ffae4a097', 'ffe90d46f', 'fff7d6be1'],\n",
      "      dtype='object', name='idhogar', length=2988)\n"
     ]
    }
   ],
   "source": [
    "no_head = (iq_train.groupby(['idhogar'])['parentesco1'].sum() == 0).index\n",
    "print(\"Number of house Identifier without a family head :\", len(no_head))\n",
    "print(no_head)"
   ]
  },
  {
   "cell_type": "markdown",
   "id": "cb9db13f",
   "metadata": {},
   "source": [
    "## Task 6: Set poverty level of the members and the head of the house within a family"
   ]
  },
  {
   "cell_type": "code",
   "execution_count": 38,
   "id": "eaaf0c8c",
   "metadata": {},
   "outputs": [],
   "source": [
    "sp = 0\n",
    "nh = 0\n",
    "\n",
    "for idhogar in iq_train['idhogar'].unique():\n",
    "    if len(iq_train[iq_train['idhogar'] == idhogar]['Target'].unique()) == 1:\n",
    "        sp += 1\n",
    "    if (iq_train[iq_train['idhogar'] == idhogar]['parentesco1'] == 0).all():\n",
    "        nh += 1"
   ]
  },
  {
   "cell_type": "code",
   "execution_count": 39,
   "id": "dbf9f41f",
   "metadata": {},
   "outputs": [
    {
     "name": "stdout",
     "output_type": "stream",
     "text": [
      "Family with the same poverty level: 2903\n",
      "Family with the diff poverty level: 85\n",
      "House without a Family head 15\n"
     ]
    }
   ],
   "source": [
    "print('Family with the same poverty level:', sp)\n",
    "print('Family with the diff poverty level:', len(iq_train['idhogar'].unique()) - sp)\n",
    "print('House without a Family head', nh)"
   ]
  },
  {
   "cell_type": "code",
   "execution_count": 40,
   "id": "bcbc68c7",
   "metadata": {},
   "outputs": [
    {
     "data": {
      "text/html": [
       "<div>\n",
       "<style scoped>\n",
       "    .dataframe tbody tr th:only-of-type {\n",
       "        vertical-align: middle;\n",
       "    }\n",
       "\n",
       "    .dataframe tbody tr th {\n",
       "        vertical-align: top;\n",
       "    }\n",
       "\n",
       "    .dataframe thead th {\n",
       "        text-align: right;\n",
       "    }\n",
       "</style>\n",
       "<table border=\"1\" class=\"dataframe\">\n",
       "  <thead>\n",
       "    <tr style=\"text-align: right;\">\n",
       "      <th></th>\n",
       "      <th>v2a1</th>\n",
       "      <th>hacdor</th>\n",
       "      <th>rooms</th>\n",
       "      <th>hacapo</th>\n",
       "      <th>v14a</th>\n",
       "      <th>refrig</th>\n",
       "      <th>v18q</th>\n",
       "      <th>v18q1</th>\n",
       "      <th>r4h1</th>\n",
       "      <th>r4h2</th>\n",
       "      <th>...</th>\n",
       "      <th>SQBescolari</th>\n",
       "      <th>SQBage</th>\n",
       "      <th>SQBhogar_total</th>\n",
       "      <th>SQBedjefe</th>\n",
       "      <th>SQBhogar_nin</th>\n",
       "      <th>SQBovercrowding</th>\n",
       "      <th>SQBdependency</th>\n",
       "      <th>SQBmeaned</th>\n",
       "      <th>agesq</th>\n",
       "      <th>Target</th>\n",
       "    </tr>\n",
       "  </thead>\n",
       "  <tbody>\n",
       "    <tr>\n",
       "      <th>0</th>\n",
       "      <td>190000.0</td>\n",
       "      <td>0</td>\n",
       "      <td>3</td>\n",
       "      <td>0</td>\n",
       "      <td>1</td>\n",
       "      <td>1</td>\n",
       "      <td>0</td>\n",
       "      <td>0.0</td>\n",
       "      <td>0</td>\n",
       "      <td>1</td>\n",
       "      <td>...</td>\n",
       "      <td>100</td>\n",
       "      <td>1849</td>\n",
       "      <td>1</td>\n",
       "      <td>100</td>\n",
       "      <td>0</td>\n",
       "      <td>1.000000</td>\n",
       "      <td>0.0000</td>\n",
       "      <td>100.0000</td>\n",
       "      <td>1849</td>\n",
       "      <td>4</td>\n",
       "    </tr>\n",
       "    <tr>\n",
       "      <th>1</th>\n",
       "      <td>135000.0</td>\n",
       "      <td>0</td>\n",
       "      <td>4</td>\n",
       "      <td>0</td>\n",
       "      <td>1</td>\n",
       "      <td>1</td>\n",
       "      <td>1</td>\n",
       "      <td>1.0</td>\n",
       "      <td>0</td>\n",
       "      <td>1</td>\n",
       "      <td>...</td>\n",
       "      <td>144</td>\n",
       "      <td>4489</td>\n",
       "      <td>1</td>\n",
       "      <td>144</td>\n",
       "      <td>0</td>\n",
       "      <td>1.000000</td>\n",
       "      <td>64.0000</td>\n",
       "      <td>144.0000</td>\n",
       "      <td>4489</td>\n",
       "      <td>4</td>\n",
       "    </tr>\n",
       "    <tr>\n",
       "      <th>2</th>\n",
       "      <td>0.0</td>\n",
       "      <td>0</td>\n",
       "      <td>8</td>\n",
       "      <td>0</td>\n",
       "      <td>1</td>\n",
       "      <td>1</td>\n",
       "      <td>0</td>\n",
       "      <td>0.0</td>\n",
       "      <td>0</td>\n",
       "      <td>0</td>\n",
       "      <td>...</td>\n",
       "      <td>121</td>\n",
       "      <td>8464</td>\n",
       "      <td>1</td>\n",
       "      <td>0</td>\n",
       "      <td>0</td>\n",
       "      <td>0.250000</td>\n",
       "      <td>64.0000</td>\n",
       "      <td>121.0000</td>\n",
       "      <td>8464</td>\n",
       "      <td>4</td>\n",
       "    </tr>\n",
       "    <tr>\n",
       "      <th>3</th>\n",
       "      <td>180000.0</td>\n",
       "      <td>0</td>\n",
       "      <td>5</td>\n",
       "      <td>0</td>\n",
       "      <td>1</td>\n",
       "      <td>1</td>\n",
       "      <td>1</td>\n",
       "      <td>1.0</td>\n",
       "      <td>0</td>\n",
       "      <td>2</td>\n",
       "      <td>...</td>\n",
       "      <td>81</td>\n",
       "      <td>289</td>\n",
       "      <td>16</td>\n",
       "      <td>121</td>\n",
       "      <td>4</td>\n",
       "      <td>1.777778</td>\n",
       "      <td>1.0000</td>\n",
       "      <td>121.0000</td>\n",
       "      <td>289</td>\n",
       "      <td>4</td>\n",
       "    </tr>\n",
       "    <tr>\n",
       "      <th>4</th>\n",
       "      <td>180000.0</td>\n",
       "      <td>0</td>\n",
       "      <td>5</td>\n",
       "      <td>0</td>\n",
       "      <td>1</td>\n",
       "      <td>1</td>\n",
       "      <td>1</td>\n",
       "      <td>1.0</td>\n",
       "      <td>0</td>\n",
       "      <td>2</td>\n",
       "      <td>...</td>\n",
       "      <td>121</td>\n",
       "      <td>1369</td>\n",
       "      <td>16</td>\n",
       "      <td>121</td>\n",
       "      <td>4</td>\n",
       "      <td>1.777778</td>\n",
       "      <td>1.0000</td>\n",
       "      <td>121.0000</td>\n",
       "      <td>1369</td>\n",
       "      <td>4</td>\n",
       "    </tr>\n",
       "    <tr>\n",
       "      <th>...</th>\n",
       "      <td>...</td>\n",
       "      <td>...</td>\n",
       "      <td>...</td>\n",
       "      <td>...</td>\n",
       "      <td>...</td>\n",
       "      <td>...</td>\n",
       "      <td>...</td>\n",
       "      <td>...</td>\n",
       "      <td>...</td>\n",
       "      <td>...</td>\n",
       "      <td>...</td>\n",
       "      <td>...</td>\n",
       "      <td>...</td>\n",
       "      <td>...</td>\n",
       "      <td>...</td>\n",
       "      <td>...</td>\n",
       "      <td>...</td>\n",
       "      <td>...</td>\n",
       "      <td>...</td>\n",
       "      <td>...</td>\n",
       "      <td>...</td>\n",
       "    </tr>\n",
       "    <tr>\n",
       "      <th>9552</th>\n",
       "      <td>80000.0</td>\n",
       "      <td>0</td>\n",
       "      <td>6</td>\n",
       "      <td>0</td>\n",
       "      <td>1</td>\n",
       "      <td>1</td>\n",
       "      <td>0</td>\n",
       "      <td>0.0</td>\n",
       "      <td>0</td>\n",
       "      <td>2</td>\n",
       "      <td>...</td>\n",
       "      <td>81</td>\n",
       "      <td>2116</td>\n",
       "      <td>25</td>\n",
       "      <td>81</td>\n",
       "      <td>1</td>\n",
       "      <td>1.562500</td>\n",
       "      <td>0.0625</td>\n",
       "      <td>68.0625</td>\n",
       "      <td>2116</td>\n",
       "      <td>2</td>\n",
       "    </tr>\n",
       "    <tr>\n",
       "      <th>9553</th>\n",
       "      <td>80000.0</td>\n",
       "      <td>0</td>\n",
       "      <td>6</td>\n",
       "      <td>0</td>\n",
       "      <td>1</td>\n",
       "      <td>1</td>\n",
       "      <td>0</td>\n",
       "      <td>0.0</td>\n",
       "      <td>0</td>\n",
       "      <td>2</td>\n",
       "      <td>...</td>\n",
       "      <td>0</td>\n",
       "      <td>4</td>\n",
       "      <td>25</td>\n",
       "      <td>81</td>\n",
       "      <td>1</td>\n",
       "      <td>1.562500</td>\n",
       "      <td>0.0625</td>\n",
       "      <td>68.0625</td>\n",
       "      <td>4</td>\n",
       "      <td>2</td>\n",
       "    </tr>\n",
       "    <tr>\n",
       "      <th>9554</th>\n",
       "      <td>80000.0</td>\n",
       "      <td>0</td>\n",
       "      <td>6</td>\n",
       "      <td>0</td>\n",
       "      <td>1</td>\n",
       "      <td>1</td>\n",
       "      <td>0</td>\n",
       "      <td>0.0</td>\n",
       "      <td>0</td>\n",
       "      <td>2</td>\n",
       "      <td>...</td>\n",
       "      <td>25</td>\n",
       "      <td>2500</td>\n",
       "      <td>25</td>\n",
       "      <td>81</td>\n",
       "      <td>1</td>\n",
       "      <td>1.562500</td>\n",
       "      <td>0.0625</td>\n",
       "      <td>68.0625</td>\n",
       "      <td>2500</td>\n",
       "      <td>2</td>\n",
       "    </tr>\n",
       "    <tr>\n",
       "      <th>9555</th>\n",
       "      <td>80000.0</td>\n",
       "      <td>0</td>\n",
       "      <td>6</td>\n",
       "      <td>0</td>\n",
       "      <td>1</td>\n",
       "      <td>1</td>\n",
       "      <td>0</td>\n",
       "      <td>0.0</td>\n",
       "      <td>0</td>\n",
       "      <td>2</td>\n",
       "      <td>...</td>\n",
       "      <td>121</td>\n",
       "      <td>676</td>\n",
       "      <td>25</td>\n",
       "      <td>81</td>\n",
       "      <td>1</td>\n",
       "      <td>1.562500</td>\n",
       "      <td>0.0625</td>\n",
       "      <td>68.0625</td>\n",
       "      <td>676</td>\n",
       "      <td>2</td>\n",
       "    </tr>\n",
       "    <tr>\n",
       "      <th>9556</th>\n",
       "      <td>80000.0</td>\n",
       "      <td>0</td>\n",
       "      <td>6</td>\n",
       "      <td>0</td>\n",
       "      <td>1</td>\n",
       "      <td>1</td>\n",
       "      <td>0</td>\n",
       "      <td>0.0</td>\n",
       "      <td>0</td>\n",
       "      <td>2</td>\n",
       "      <td>...</td>\n",
       "      <td>64</td>\n",
       "      <td>441</td>\n",
       "      <td>25</td>\n",
       "      <td>81</td>\n",
       "      <td>1</td>\n",
       "      <td>1.562500</td>\n",
       "      <td>0.0625</td>\n",
       "      <td>68.0625</td>\n",
       "      <td>441</td>\n",
       "      <td>2</td>\n",
       "    </tr>\n",
       "  </tbody>\n",
       "</table>\n",
       "<p>9557 rows × 142 columns</p>\n",
       "</div>"
      ],
      "text/plain": [
       "          v2a1  hacdor  rooms  hacapo  v14a  refrig  v18q  v18q1  r4h1  r4h2  \\\n",
       "0     190000.0       0      3       0     1       1     0    0.0     0     1   \n",
       "1     135000.0       0      4       0     1       1     1    1.0     0     1   \n",
       "2          0.0       0      8       0     1       1     0    0.0     0     0   \n",
       "3     180000.0       0      5       0     1       1     1    1.0     0     2   \n",
       "4     180000.0       0      5       0     1       1     1    1.0     0     2   \n",
       "...        ...     ...    ...     ...   ...     ...   ...    ...   ...   ...   \n",
       "9552   80000.0       0      6       0     1       1     0    0.0     0     2   \n",
       "9553   80000.0       0      6       0     1       1     0    0.0     0     2   \n",
       "9554   80000.0       0      6       0     1       1     0    0.0     0     2   \n",
       "9555   80000.0       0      6       0     1       1     0    0.0     0     2   \n",
       "9556   80000.0       0      6       0     1       1     0    0.0     0     2   \n",
       "\n",
       "      ...  SQBescolari  SQBage  SQBhogar_total  SQBedjefe  SQBhogar_nin  \\\n",
       "0     ...          100    1849               1        100             0   \n",
       "1     ...          144    4489               1        144             0   \n",
       "2     ...          121    8464               1          0             0   \n",
       "3     ...           81     289              16        121             4   \n",
       "4     ...          121    1369              16        121             4   \n",
       "...   ...          ...     ...             ...        ...           ...   \n",
       "9552  ...           81    2116              25         81             1   \n",
       "9553  ...            0       4              25         81             1   \n",
       "9554  ...           25    2500              25         81             1   \n",
       "9555  ...          121     676              25         81             1   \n",
       "9556  ...           64     441              25         81             1   \n",
       "\n",
       "      SQBovercrowding  SQBdependency  SQBmeaned  agesq  Target  \n",
       "0            1.000000         0.0000   100.0000   1849       4  \n",
       "1            1.000000        64.0000   144.0000   4489       4  \n",
       "2            0.250000        64.0000   121.0000   8464       4  \n",
       "3            1.777778         1.0000   121.0000    289       4  \n",
       "4            1.777778         1.0000   121.0000   1369       4  \n",
       "...               ...            ...        ...    ...     ...  \n",
       "9552         1.562500         0.0625    68.0625   2116       2  \n",
       "9553         1.562500         0.0625    68.0625      4       2  \n",
       "9554         1.562500         0.0625    68.0625   2500       2  \n",
       "9555         1.562500         0.0625    68.0625    676       2  \n",
       "9556         1.562500         0.0625    68.0625    441       2  \n",
       "\n",
       "[9557 rows x 142 columns]"
      ]
     },
     "execution_count": 40,
     "metadata": {},
     "output_type": "execute_result"
    }
   ],
   "source": [
    "target_mean = iq_train.groupby('idhogar')['Target'].mean().astype('int64')\\\n",
    "                    .reset_index()\\\n",
    "                    .rename(columns={'Target':'Target_mean'})\n",
    "\n",
    "iq_train = iq_train.merge(target_mean, how='left', on='idhogar')\n",
    "iq_train.Target = iq_train.Target_mean\n",
    "iq_train.drop('Target_mean', axis=1, inplace=True)\n",
    "iq_train"
   ]
  },
  {
   "cell_type": "markdown",
   "id": "20ad0412",
   "metadata": {},
   "source": [
    "## Task 7: Count how many null values are existing in columns "
   ]
  },
  {
   "cell_type": "markdown",
   "id": "68ec8c55",
   "metadata": {},
   "source": [
    "**Completed in EDA**"
   ]
  },
  {
   "cell_type": "markdown",
   "id": "2a2da522",
   "metadata": {},
   "source": [
    "## Task 8: Remove null value rows of the target variable"
   ]
  },
  {
   "cell_type": "markdown",
   "id": "b9850f8a",
   "metadata": {},
   "source": [
    "**Completed in EDA**"
   ]
  },
  {
   "cell_type": "code",
   "execution_count": 41,
   "id": "8fb6919c",
   "metadata": {},
   "outputs": [
    {
     "name": "stdout",
     "output_type": "stream",
     "text": [
      "Null values in Target Variable: 0\n"
     ]
    }
   ],
   "source": [
    "print(\"Null values in Target Variable:\", iq_train[\"Target\"].isna().sum())"
   ]
  },
  {
   "cell_type": "markdown",
   "id": "fd735d0f",
   "metadata": {},
   "source": [
    "## Task 9: Predict the accuracy using random forest classifier"
   ]
  },
  {
   "cell_type": "code",
   "execution_count": 42,
   "id": "663c4a95",
   "metadata": {},
   "outputs": [
    {
     "name": "stdout",
     "output_type": "stream",
     "text": [
      "(9557, 142)\n",
      "(9557, 141)\n",
      "----------------------------------------------------------------------------------------------------------\n",
      "(23856, 141)\n",
      "(23856, 140)\n"
     ]
    }
   ],
   "source": [
    "#Befor moving ahead with Random forest let's delete idhogar column\n",
    "print(iq_train.shape)\n",
    "iq_train.drop(['idhogar'], axis=1, inplace=True)\n",
    "print(iq_train.shape)\n",
    "print(\"----------------------------------------------------------------------------------------------------------\")\n",
    "print(iq_test.shape)\n",
    "iq_test.drop(['idhogar'], axis=1, inplace=True)\n",
    "print(iq_test.shape)"
   ]
  },
  {
   "cell_type": "code",
   "execution_count": null,
   "id": "f26ffc22",
   "metadata": {},
   "outputs": [],
   "source": []
  },
  {
   "cell_type": "code",
   "execution_count": 43,
   "id": "8de744fc",
   "metadata": {},
   "outputs": [],
   "source": [
    "X=iq_train.drop(columns=[\"Target\"])\n",
    "y=iq_train[\"Target\"]"
   ]
  },
  {
   "cell_type": "code",
   "execution_count": 44,
   "id": "93811914",
   "metadata": {},
   "outputs": [
    {
     "data": {
      "text/plain": [
       "RandomForestClassifier(n_estimators=10)"
      ]
     },
     "execution_count": 44,
     "metadata": {},
     "output_type": "execute_result"
    }
   ],
   "source": [
    "from sklearn.ensemble import RandomForestClassifier\n",
    "from sklearn.metrics import accuracy_score, confusion_matrix, classification_report\n",
    "from sklearn.model_selection import train_test_split\n",
    "\n",
    "x_train,x_test,y_train,y_test=train_test_split(X,y,test_size=0.2,random_state=1)\n",
    "RFclass=RandomForestClassifier(bootstrap=True, class_weight=None, criterion='gini',\n",
    "                       max_depth=None, max_features='auto', max_leaf_nodes=None,\n",
    "                       min_impurity_decrease=0.0, min_impurity_split=None,\n",
    "                       min_samples_leaf=1, min_samples_split=2,\n",
    "                       min_weight_fraction_leaf=0.0, n_estimators=10,\n",
    "                       n_jobs=None, oob_score=False, random_state=None,\n",
    "                       verbose=0, warm_start=False)\n",
    "RFclass.fit(X,y)"
   ]
  },
  {
   "cell_type": "code",
   "execution_count": 45,
   "id": "7d00a267",
   "metadata": {},
   "outputs": [
    {
     "name": "stdout",
     "output_type": "stream",
     "text": [
      "[4 4 4 ... 4 4 2]\n"
     ]
    }
   ],
   "source": [
    "y_pred = RFclass.predict(x_test)\n",
    "print(y_pred)"
   ]
  },
  {
   "cell_type": "code",
   "execution_count": 46,
   "id": "2bd5cebc",
   "metadata": {},
   "outputs": [
    {
     "name": "stdout",
     "output_type": "stream",
     "text": [
      "RandomForestClassifier(n_estimators=10)\n",
      "\n",
      "Accuracy: 0.9989539748953975\n",
      "\n",
      "Confusion Matrix:\n",
      " [[ 168    0    0    0]\n",
      " [   0  323    0    1]\n",
      " [   0    0  221    1]\n",
      " [   0    0    0 1198]]\n",
      "\n",
      "\n",
      "Classification Report:\n",
      "               precision    recall  f1-score   support\n",
      "\n",
      "           1       1.00      1.00      1.00       168\n",
      "           2       1.00      1.00      1.00       324\n",
      "           3       1.00      1.00      1.00       222\n",
      "           4       1.00      1.00      1.00      1198\n",
      "\n",
      "    accuracy                           1.00      1912\n",
      "   macro avg       1.00      1.00      1.00      1912\n",
      "weighted avg       1.00      1.00      1.00      1912\n",
      "\n"
     ]
    }
   ],
   "source": [
    "print(RFclass)\n",
    "print(\"\\nAccuracy:\",accuracy_score(y_test,y_pred))\n",
    "print(\"\\nConfusion Matrix:\\n\",confusion_matrix(y_test,y_pred))\n",
    "print(\"\\n\\nClassification Report:\\n\",classification_report(y_test,y_pred))"
   ]
  },
  {
   "cell_type": "markdown",
   "id": "ba9682f8",
   "metadata": {},
   "source": [
    "## Task 10: Check the accuracy using random forest with cross validation "
   ]
  },
  {
   "cell_type": "code",
   "execution_count": 48,
   "id": "d761d9e4",
   "metadata": {},
   "outputs": [
    {
     "name": "stdout",
     "output_type": "stream",
     "text": [
      "56.79467474147689 \t 42.80481423338566 \t 64.27824267782427\n",
      "-------------------------------------------------------------------------------------------------------------------\n",
      "[0.62604603 0.64278243 0.62637363 0.42804814 0.51648352]\n",
      "-------------------------------------------------------------------------------------------------------------------\n",
      "56.79467474147689\n"
     ]
    }
   ],
   "source": [
    "# Using cross validation\n",
    "from sklearn.model_selection import cross_val_score\n",
    "crossval = cross_val_score(RFclass, X, y, scoring='accuracy')\n",
    "print(np.mean(crossval)*100,\"\\t\", min(crossval)*100,\"\\t\", max(crossval)*100)\n",
    "print(\"-------------------------------------------------------------------------------------------------------------------\")\n",
    "print(crossval)\n",
    "print(\"-------------------------------------------------------------------------------------------------------------------\")\n",
    "print(crossval.mean()*100)"
   ]
  },
  {
   "cell_type": "code",
   "execution_count": null,
   "id": "7804c9bd",
   "metadata": {},
   "outputs": [],
   "source": []
  }
 ],
 "metadata": {
  "kernelspec": {
   "display_name": "Python 3 (ipykernel)",
   "language": "python",
   "name": "python3"
  },
  "language_info": {
   "codemirror_mode": {
    "name": "ipython",
    "version": 3
   },
   "file_extension": ".py",
   "mimetype": "text/x-python",
   "name": "python",
   "nbconvert_exporter": "python",
   "pygments_lexer": "ipython3",
   "version": "3.9.7"
  }
 },
 "nbformat": 4,
 "nbformat_minor": 5
}
